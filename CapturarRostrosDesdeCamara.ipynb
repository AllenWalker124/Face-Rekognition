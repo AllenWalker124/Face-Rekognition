{
 "cells": [
  {
   "cell_type": "code",
   "execution_count": null,
   "metadata": {},
   "outputs": [],
   "source": [
    "import cv2\n",
    "import os"
   ]
  },
  {
   "cell_type": "code",
   "execution_count": null,
   "metadata": {},
   "outputs": [],
   "source": [
    "if not os.path.exists('Rostros encontrados'):\n",
    "\tprint('Carpeta creada: Rostros encontrados')\n",
    "\tos.makedirs('Rostros encontrados')\n",
    "\n",
    "cap = cv2.VideoCapture(0,cv2.CAP_DSHOW)\n",
    "\n",
    "faceClassif = cv2.CascadeClassifier(cv2.data.haarcascades+'haarcascade_frontalface_default.xml')"
   ]
  },
  {
   "cell_type": "code",
   "execution_count": null,
   "metadata": {},
   "outputs": [],
   "source": [
    "count = 0\n",
    "while True:\n",
    "\tret,frame = cap.read()\n",
    "\tframe = cv2.flip(frame,1)\n",
    "\tgray = cv2.cvtColor(frame, cv2.COLOR_BGR2GRAY)\n",
    "\tauxFrame = frame.copy()\n",
    "\n",
    "\tfaces = faceClassif.detectMultiScale(gray, 1.3, 5)\n",
    "\n",
    "\tk = cv2.waitKey(1)\n",
    "\tif k == 27:\n",
    "\t\tbreak\n",
    "\n",
    "\tfor (x,y,w,h) in faces:\n",
    "\t\tcv2.rectangle(frame, (x,y),(x+w,y+h),(128,0,255),2)\n",
    "\t\trostro = auxFrame[y:y+h,x:x+w]\n",
    "\t\trostro = cv2.resize(rostro,(150,150), interpolation=cv2.INTER_CUBIC)\n",
    "\t\tif k == ord('s'):\n",
    "\t\t\tcv2.imwrite('Rostros encontrados/rostro_{}.jpg'.format(count),rostro)\n",
    "\t\t\tcv2.imshow('rostro',rostro)\n",
    "\t\t\tcount = count +1\n",
    "\tcv2.rectangle(frame,(10,5),(450,25),(255,255,255),-1)\n",
    "\tcv2.putText(frame,'Presione s, para almacenar los rostros encontrados',(10,20), 2, 0.5,(128,0,255),1,cv2.LINE_AA)\n",
    "\tcv2.imshow('frame',frame)\n",
    "\n",
    "cap.release()\n",
    "cv2.destroyAllWindows()"
   ]
  }
 ],
 "metadata": {
  "language_info": {
   "name": "python"
  },
  "orig_nbformat": 4
 },
 "nbformat": 4,
 "nbformat_minor": 2
}
